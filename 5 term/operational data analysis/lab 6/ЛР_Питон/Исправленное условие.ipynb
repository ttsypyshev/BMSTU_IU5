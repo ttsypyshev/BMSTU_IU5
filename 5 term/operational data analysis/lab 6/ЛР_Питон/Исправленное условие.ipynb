{
 "cells": [
  {
   "cell_type": "markdown",
   "metadata": {
    "id": "IHMINU8n5D1k"
   },
   "source": [
    "# Подготовка (pandas, numpy, etc)"
   ]
  },
  {
   "cell_type": "markdown",
   "metadata": {
    "id": "sWp-ogsB53sX"
   },
   "source": [
    "## numpy"
   ]
  },
  {
   "cell_type": "code",
   "execution_count": 1,
   "metadata": {
    "executionInfo": {
     "elapsed": 3215,
     "status": "ok",
     "timestamp": 1673730069482,
     "user": {
      "displayName": "Лев Барабанщиков (I Smartyy I)",
      "userId": "03927496533933058806"
     },
     "user_tz": -180
    },
    "id": "ZgNSXCJC7nWe"
   },
   "outputs": [],
   "source": [
    "import numpy as np\n",
    "import pandas as pd\n",
    "import matplotlib.pyplot as plt\n",
    "import seaborn as sns\n",
    "from sklearn.linear_model import LinearRegression\n",
    "from sklearn.model_selection import train_test_split\n",
    "from sklearn.metrics import mean_squared_error\n",
    "\n",
    "y_pred = np.array([0.9, 0.2, 0.1, 0.4, 0.9])\n",
    "y_ans = np.array([1, 0, 0, 1, 1])"
   ]
  },
  {
   "cell_type": "markdown",
   "metadata": {
    "id": "vXF2WP0M7F4E"
   },
   "source": [
    "### 1. $L_1$ норма\n",
    "Напишите функцию, которая для двух векторов вычисляет их $L_1$ норму (\"манхэттенское расстояние\" или \"расстояние городских кварталов\"):\n",
    "$$\\begin{align*} & L_1(y_{pred}, y) = \\sum_{i=0}^m|y^{(i)} - y_{pred}^{(i)}| \\end{align*}$$  "
   ]
  },
  {
   "cell_type": "code",
   "execution_count": null,
   "metadata": {
    "colab": {
     "base_uri": "https://localhost:8080/",
     "height": 200
    },
    "executionInfo": {
     "elapsed": 9,
     "status": "error",
     "timestamp": 1673730069484,
     "user": {
      "displayName": "Лев Барабанщиков (I Smartyy I)",
      "userId": "03927496533933058806"
     },
     "user_tz": -180
    },
    "id": "LmjB_H9F7NNY",
    "outputId": "a6659e88-efb4-47c9-c3a7-79bcc3bc03e3"
   },
   "outputs": [],
   "source": [
    "def L1_norm(y_pred, y_ans):    \n",
    "    return #ТВОЙ КОД\n",
    "\n",
    "assert round(L1_norm(y_pred, y_ans), 1) == 1.1, 'Неверно реализован расчёт'"
   ]
  },
  {
   "cell_type": "code",
   "execution_count": null,
   "metadata": {
    "colab": {
     "base_uri": "https://localhost:8080/"
    },
    "executionInfo": {
     "elapsed": 219,
     "status": "ok",
     "timestamp": 1673730088151,
     "user": {
      "displayName": "Лев Барабанщиков (I Smartyy I)",
      "userId": "03927496533933058806"
     },
     "user_tz": -180
    },
    "id": "kUp31sa37QbK",
    "outputId": "4fbc8bcf-cd38-4228-b798-f345e886b8ed"
   },
   "outputs": [],
   "source": [
    "print(f\"L1 = {L1_norm(y_pred, y_ans)}\")"
   ]
  },
  {
   "cell_type": "markdown",
   "metadata": {
    "id": "g37SpdoE6K1Y"
   },
   "source": [
    "### 2. $L_2$ норма\n",
    "Напишите функцию, которая для двух векторов вычисляет их $L_2$ норму (евклидово расстояние):\n",
    "$$\\begin{align*} & L_2(y_{pred},y) = \\sum_{i=0}^m(y^{(i)} - y_{pred}^{(i)})^2 \\end{align*}$$"
   ]
  },
  {
   "cell_type": "code",
   "execution_count": null,
   "metadata": {
    "colab": {
     "base_uri": "https://localhost:8080/",
     "height": 200
    },
    "executionInfo": {
     "elapsed": 280,
     "status": "error",
     "timestamp": 1673730079186,
     "user": {
      "displayName": "Лев Барабанщиков (I Smartyy I)",
      "userId": "03927496533933058806"
     },
     "user_tz": -180
    },
    "id": "XMBZCZzU4_8a",
    "outputId": "fb0ddefb-d0cc-4874-ab92-dd3a1fdf4b8e"
   },
   "outputs": [],
   "source": [
    "def L2_norm(y_pred, y_ans):\n",
    "    return #ТВОЙ КОД\n",
    "\n",
    "\n",
    "assert round(L2_norm(y_pred, y_ans), 3) == 0.43, 'Неверно реализован расчёт'"
   ]
  },
  {
   "cell_type": "code",
   "execution_count": null,
   "metadata": {
    "colab": {
     "base_uri": "https://localhost:8080/"
    },
    "executionInfo": {
     "elapsed": 3,
     "status": "ok",
     "timestamp": 1673730079425,
     "user": {
      "displayName": "Лев Барабанщиков (I Smartyy I)",
      "userId": "03927496533933058806"
     },
     "user_tz": -180
    },
    "id": "sHmkty_H6FgK",
    "outputId": "65fac3a5-ec0f-4172-d6fe-5388956bdabf"
   },
   "outputs": [],
   "source": [
    "print(f\"L2 = {L2_norm(y_pred, y_ans)}\") "
   ]
  },
  {
   "cell_type": "markdown",
   "metadata": {
    "id": "8qghVnFM6Ugv"
   },
   "source": [
    "### 3. Строки с одинаковыми значениями\n",
    "Напишите функцию, которая для 2-мерной матрицы произвольного размера возвращает все строки, содержащие только одинаковые значения (напр. [2, 2, 2, 2])"
   ]
  },
  {
   "cell_type": "code",
   "execution_count": null,
   "metadata": {
    "colab": {
     "base_uri": "https://localhost:8080/",
     "height": 153
    },
    "id": "5rRdScLe6pef",
    "outputId": "71a0f023-a6ba-4701-989c-e34c6646e392"
   },
   "outputs": [],
   "source": [
    "np.random.seed(777)\n",
    "Z = np.random.randint(0, 5, (6, 5))\n",
    "Z_eq = np.array((np.ones(5), np.zeros(5)))\n",
    "Z = np.vstack((Z, Z_eq))\n",
    "print(Z)"
   ]
  },
  {
   "cell_type": "code",
   "execution_count": null,
   "metadata": {
    "id": "cAGqv6_H6ssy"
   },
   "outputs": [],
   "source": [
    "def all_the_same(X):\n",
    "    return #ТВОЙ КОД"
   ]
  },
  {
   "cell_type": "code",
   "execution_count": null,
   "metadata": {
    "colab": {
     "base_uri": "https://localhost:8080/",
     "height": 68
    },
    "id": "D-NcLz056uwr",
    "outputId": "0d81b44d-c3aa-405c-b441-7a4a4a70ecaf"
   },
   "outputs": [],
   "source": [
    "print(\"Строки с одинаковыми значениями:\\n\", all_the_same(Z))"
   ]
  },
  {
   "cell_type": "markdown",
   "metadata": {
    "id": "mNMmQVwb5821"
   },
   "source": [
    "## pandas"
   ]
  },
  {
   "cell_type": "markdown",
   "metadata": {
    "id": "zFu46WPqFGZt"
   },
   "source": [
    "__Прочитайте \"telecom_churn.csv\" в датафрейм__"
   ]
  },
  {
   "cell_type": "code",
   "execution_count": null,
   "metadata": {
    "id": "6Pe19U8R8Q6z"
   },
   "outputs": [],
   "source": [
    "#ТВОЙ КОД"
   ]
  },
  {
   "cell_type": "markdown",
   "metadata": {
    "id": "cAMRJ7QVFHD5"
   },
   "source": [
    "__Выведите первые 10 строк__"
   ]
  },
  {
   "cell_type": "code",
   "execution_count": null,
   "metadata": {
    "id": "BGSU_K7oEyF8"
   },
   "outputs": [],
   "source": [
    "#ТВОЙ КОД"
   ]
  },
  {
   "cell_type": "markdown",
   "metadata": {
    "id": "N7r6G8jzFH3D"
   },
   "source": [
    "__Выведите число объектов и колонок в датафрейме__"
   ]
  },
  {
   "cell_type": "code",
   "execution_count": null,
   "metadata": {
    "id": "4-FSnnS4Ex52"
   },
   "outputs": [],
   "source": [
    "#ТВОЙ КОД"
   ]
  },
  {
   "cell_type": "markdown",
   "metadata": {
    "id": "pRn1CFfIFIhA"
   },
   "source": [
    "__Выведите названия всех колонок__"
   ]
  },
  {
   "cell_type": "code",
   "execution_count": null,
   "metadata": {
    "id": "pvuudgd4ExtM"
   },
   "outputs": [],
   "source": [
    "#ТВОЙ КОД"
   ]
  },
  {
   "cell_type": "markdown",
   "metadata": {
    "id": "2qxHR0awFJIX"
   },
   "source": [
    "__Покажите все возможные значения поля UniqueSubs и их количества__"
   ]
  },
  {
   "cell_type": "code",
   "execution_count": null,
   "metadata": {
    "id": "Nb6eZo6pExhB"
   },
   "outputs": [],
   "source": [
    "#ТВОЙ КОД"
   ]
  },
  {
   "cell_type": "markdown",
   "metadata": {
    "id": "RFv_crS4FJzv"
   },
   "source": [
    "__Сгруппируйте данные по полю MaritalStatus и посчитайте среднее для InboundCalls и OutboundCalls (ответ должен быть в виде таблицы)__"
   ]
  },
  {
   "cell_type": "code",
   "execution_count": null,
   "metadata": {
    "id": "wp9stt4_ExTG"
   },
   "outputs": [],
   "source": [
    "#ТВОЙ КОД"
   ]
  },
  {
   "cell_type": "markdown",
   "metadata": {
    "id": "cWxky8hQ5Dcs"
   },
   "source": [
    "# Сама лаба"
   ]
  },
  {
   "cell_type": "markdown",
   "metadata": {
    "id": "951DjOrK7DwX"
   },
   "source": [
    "__Считайте данные и выведете первые 5 строк датасета (tips.csv)__"
   ]
  },
  {
   "cell_type": "code",
   "execution_count": null,
   "metadata": {
    "id": "aKLBf4wd1f39"
   },
   "outputs": [],
   "source": [
    "#ТВОЙ КОД"
   ]
  },
  {
   "cell_type": "markdown",
   "metadata": {
    "id": "4xN3gQS37CZR"
   },
   "source": []
  },
  {
   "cell_type": "markdown",
   "metadata": {
    "id": "CVoCuMlD7O0O"
   },
   "source": [
    "__Покажите на графике зависимость размера чаевых от времени и разделите это по полам__\n",
    "\n",
    "Использовать _catplot_"
   ]
  },
  {
   "cell_type": "code",
   "execution_count": null,
   "metadata": {
    "id": "hUIsl7MS4D20"
   },
   "outputs": [],
   "source": [
    "#ТВОЙ КОД"
   ]
  },
  {
   "cell_type": "markdown",
   "metadata": {
    "id": "Xpjdi7Uw7nYN"
   },
   "source": [
    "__Покажите на графике зависимость размера чаевых от полного счета и разделите это по полам__\n",
    "\n",
    "Использовать _lineplot_"
   ]
  },
  {
   "cell_type": "code",
   "execution_count": null,
   "metadata": {
    "id": "wWOn_voP4EW6"
   },
   "outputs": [],
   "source": [
    "#ТВОЙ КОД"
   ]
  },
  {
   "cell_type": "code",
   "execution_count": null,
   "metadata": {
    "colab": {
     "base_uri": "https://localhost:8080/",
     "height": 136
    },
    "id": "YKJtKFGX2W20",
    "outputId": "a26c9e84-1363-483d-dde8-021d49feb9b4"
   },
   "outputs": [],
   "source": [
    "#Просто выполните\n",
    "X_1 = df.drop(['tip', 'sex', 'smoker', 'day', 'time'], axis=1)\n",
    "X_2 = df.drop(['total_bill', 'size', 'tip'], axis=1)\n",
    "y = np.array(df.drop(['sex', 'total_bill', 'smoker', 'day', 'time', 'size'], axis=1).values)\n",
    "X_2_clear = pd.get_dummies(X_2)\n",
    "X = np.array(pd.concat([X_1,X_2_clear], axis=1).values)\n",
    "print(X)"
   ]
  },
  {
   "cell_type": "code",
   "execution_count": null,
   "metadata": {
    "id": "6sxv-aJjxH_x"
   },
   "outputs": [],
   "source": [
    "#Просто выполните\n",
    "features = pd.concat([X_1, X_2_clear], axis=1)\n",
    "target = df.drop(['sex', 'total_bill', 'smoker', 'day', 'time', 'size'], axis=1)\n",
    "train_data, test_data, train_target, test_target = train_test_split(features, target, test_size = 0.3, random_state=0)"
   ]
  },
  {
   "cell_type": "markdown",
   "metadata": {
    "id": "gLgg5IIG_FtV"
   },
   "source": [
    "<font size=3 >__Немного теории__</font>\n",
    "\n",
    "Мы разберем __основные метрики качества и функционалы потерь__ задачи регрессии. Далее все будем называть __метриками__.\n",
    "\n",
    "__Метрики необходимы для:__\n",
    "- поиска оптимального решения\n",
    "- оценки качества работы модели\n",
    "- сравнения моделей\n",
    "- интерпретации результатов\n",
    "\n",
    "\n",
    "\n",
    "<table border=\"1\" width=\"100%\">\n",
    " <tr>\n",
    "    <td width=\"50%\"> \n",
    "        <p> <font size=3> $MAE= \\frac{1}{n} \\sum_{i=1}^n |y_i-\\hat{y_i}|$  </font> </p> \n",
    "        <p> \n",
    "            <font size=2> \n",
    "                <span style=\"color:green; margin-left:2em\">$ +$ </span>\n",
    "                легко интерпретировать \n",
    "            </font><br/>\n",
    "            <font size=2> \n",
    "                <span style=\"color:green; margin-left:2em\">$ +$ </span>\n",
    "                единицы измерения таргета и метрики – эквивалентны\n",
    "            </font><br/>\n",
    "            <font size=2> \n",
    "                <span style=\"color:green; margin-left:2em\">$ +$ </span>\n",
    "                устойчива к выбросам \n",
    "            </font><br/>\n",
    "            <font size=2> \n",
    "                <span style=\"color:red; margin-left:2em\">$ -$ </span>\n",
    "                не ограничена сверху \n",
    "            </font><br/>\n",
    "            <font size=2> \n",
    "                <span style=\"color:red; margin-left:2em\">$ -$ </span>\n",
    "                не дифференцируема в таком виде \n",
    "            </font>\n",
    "        </p><br/>\n",
    "        <p> <font size=3> $MSE= \\frac{1}{n} \\sum_{i=1}^n (y_i-\\hat{y_i})^2$  </font> </p> \n",
    "        <p> \n",
    "            <font size=2> \n",
    "                <span style=\"color:green; margin-left:2em\">$ +$ </span>\n",
    "                дифференцируема\n",
    "            </font><br/>\n",
    "            <font size=2> \n",
    "                <span style=\"color:green; margin-left:2em\">$ +$ </span>\n",
    "                чувствительна к выбросам\n",
    "            </font><br/>\n",
    "            <font size=2> \n",
    "                <span style=\"color:red; margin-left:2em\">$ -$ </span>\n",
    "                не ограничена сверху \n",
    "            </font><br/>\n",
    "            <font size=2> \n",
    "                <span style=\"color:red; margin-left:2em\">$ -$ </span>\n",
    "                сложно интерпретировать \n",
    "            </font><br/>\n",
    "        </p><br/>\n",
    "        <p> <font size=3> $RMSE=\\sqrt{\\frac{1}{n} \\sum_{i=1}^n (y_i-\\hat{y_i})^2} $  </font> </p> \n",
    "        <p> \n",
    "            <font size=2> \n",
    "                <span style=\"color:green; margin-left:2em\">$ +$ </span>\n",
    "                дифференцируема\n",
    "            </font><br/>\n",
    "            <font size=2> \n",
    "                <span style=\"color:red; margin-left:2em\">$ -$ </span>\n",
    "                не ограничена сверху \n",
    "            </font><br/>\n",
    "            <font size=2> \n",
    "                <span style=\"color:red; margin-left:2em\">$ -$ </span>\n",
    "                еще сложнее интерпретировать \n",
    "            </font>\n",
    "        <p>Основное различие $RMSE$ и $MAE$ заключается в том, что минимизация $RMSE$ сремиться к средней оценке, а  $MAE$ к медиане</p><br/><p>$y$ $-$ истинное значение; $\\hat{y}$ $-$ предсказанное значение</p>\n",
    "        </p><br/>\n",
    "     </td>\n",
    "    <td><img src=\"./errors_2.png\" align=\"right\"></td>\n",
    " </tr>\n",
    "</table>\n",
    "\n",
    "Две попытки __объединить__ положительные __свойства метрик__:\n",
    "- [Функция потерь Хьюбера](https://en.wikipedia.org/wiki/Huber_loss): \n",
    "    * ведет себя как $MSE$ на ошибках меньше $\\sigma$ и как $MAE$ в противном случае. __Что не дает \"взрываться\" метрике на больших значениях и \"жестко\" реагирует на маленькие остатки__\n",
    "    * все так же не удобно дифференцировать\n",
    "- [Log-Cosh Loss](https://heartbeat.fritz.ai/5-regression-loss-functions-all-machine-learners-should-know-4fb140e9d4b0):\n",
    "    * принимает меньшие значения по сравнению с функцией потерь Хьюбера на всем множестве\n",
    "    * __дважды дифференцируема__, что необходимо в некоторых методах численной оптимизации.\n",
    "________________________\n",
    "__Проблема:__ все предыдущие метрики __не подходят для оценки конкретного решения__ а только для сравнения моделей, что следует из того что __функции не ограничены сверху.__ \n",
    "\n",
    "Эта проблема так же решается посредством доработок $MAE$: [MAPE](https://en.wikipedia.org/wiki/Mean_absolute_percentage_error) и [SMAPE](https://en.wikipedia.org/wiki/Symmetric_mean_absolute_percentage_error). Однако, подробно рассмотрим метрику $R^2$\n",
    "и мотивы появления $R^2_{adj}$.\n",
    "\n",
    "$$R^2=1-\\frac{\\sum_{i=1}^n (y_i-\\hat{y_i})^2}{\\sum_{i=1}^n (y_i-\\bar{y_i})^2}$$\n",
    "\n",
    "Данная метрика обладает следующими свойствами:\n",
    "\n",
    "<font size=2> \n",
    "    <span style=\"color:green; margin-left:2em\">$ +$ </span>\n",
    "     ограничена сверху и снизу, что позволяет дать оценку конкретному решению без сравнения с другими\n",
    "</font><br/>\n",
    "<font size=2> \n",
    "    <span style=\"color:green; margin-left:2em\">$ +$ </span>\n",
    "     хорошо интерпретируется: на сколько наша модель лучше, чем константное решение\n",
    "</font><br/>\n",
    "<font size=2> \n",
    "    <span style=\"color:red; margin-left:2em\">$ -$ </span>\n",
    "     не диффиренцируема\n",
    "</font><br/>\n",
    "<font size=2> \n",
    "    <span style=\"color:red; margin-left:2em\">$ -$ </span>\n",
    "     значение метрики растет (не уменьшается) при добавлении новых переменных, даже если они никак не объясняют целевой показатель. Поэтому нельзя сравнивать модели с разным количеством признаков. Данная проблема решается с помощью $R^2_{adj}$\n",
    "</font>\n",
    "\n",
    "$$R^2_{adj}=1-(1-R^2)\\frac{n-1}{n-p-1}$$\n",
    "\n",
    "где $p -$ число признаков, а $n -$ количество объектов\n",
    "\n",
    "__Рекомендации:__ использовать $R^2_{adj}$ для сравнения моделей и оценки количества переменных, а $R^2$ для оценки качества на новых объектах\n",
    "\n",
    "\n",
    "__В данном задании вам необходимо реализовать 4 основные метрики:__ $MAE; MSE; RMSE; R^2$\n",
    "\n",
    "Каждая из метрик принимает на вход 2 одномерных numpy массива:\n",
    "- __y_true__ - истинные значения \n",
    "- __y_predict__ - предсказанные значения\n",
    "\n",
    "Каждая из функций должна возврашать одно число \n",
    "\n"
   ]
  },
  {
   "cell_type": "code",
   "execution_count": null,
   "metadata": {
    "id": "zK8nNrD5-UZD"
   },
   "outputs": [],
   "source": [
    "def MAError(y_true, y_predict):\n",
    "    #ТВОЙ КОД\n",
    "    return error\n",
    "\n",
    "\n",
    "def MSError(y_true, y_predict):\n",
    "    #ТВОЙ КОД\n",
    "    return error\n",
    "\n",
    "\n",
    "def RMSError(y_true, y_predict):\n",
    "    #ТВОЙ КОД\n",
    "    return error\n",
    "\n",
    "\n",
    "def R_square(y_true, y_predict):\n",
    "    #ТВОЙ КОД\n",
    "    return error\n",
    "\n",
    "\n",
    "def all_metric(y_true, y_predict):\n",
    "    d = {}\n",
    "    d['MAE'] = [MAError(y_true, y_predict)] \n",
    "    d['MSE'] = [MSError(y_true, y_predict)] \n",
    "    d['RMSE'] = [RMSError(y_true, y_predict)]\n",
    "    d['R_square'] = [R_square(y_true, y_predict)]\n",
    "    return d"
   ]
  },
  {
   "cell_type": "markdown",
   "metadata": {
    "id": "mS84RM7yBlo-"
   },
   "source": [
    "__Обучим модель и сгенерируем данные для проверки функций ошибок__"
   ]
  },
  {
   "cell_type": "code",
   "execution_count": null,
   "metadata": {
    "id": "WRKtLdjxBgTP"
   },
   "outputs": [],
   "source": [
    "from sklearn.linear_model import LogisticRegression\n",
    "from sklearn.datasets import load_diabetes\n",
    "from sklearn.preprocessing import StandardScaler\n",
    "from sklearn.model_selection import train_test_split"
   ]
  },
  {
   "cell_type": "code",
   "execution_count": null,
   "metadata": {
    "id": "EZYqPIJMBjbf"
   },
   "outputs": [],
   "source": [
    "model = LogisticRegression(max_iter=5000)\n",
    "features, target = load_diabetes(return_X_y=True, as_frame=True)\n",
    "scaler = StandardScaler()"
   ]
  },
  {
   "cell_type": "code",
   "execution_count": null,
   "metadata": {
    "id": "TrBVtCe8B6Vh"
   },
   "outputs": [],
   "source": [
    "X = scaler.fit_transform(features)\n",
    "\n",
    "full = pd.concat([features, target], axis=1)\n",
    "\n",
    "full_train, full_test = train_test_split(full, test_size=0.2, random_state=42, shuffle=True)\n",
    "\n",
    "y_train = full_train.target\n",
    "X_train = full_train.drop(\"target\", axis=1)"
   ]
  },
  {
   "cell_type": "code",
   "execution_count": null,
   "metadata": {
    "colab": {
     "base_uri": "https://localhost:8080/"
    },
    "executionInfo": {
     "elapsed": 288,
     "status": "ok",
     "timestamp": 1673729288368,
     "user": {
      "displayName": "Лев Барабанщиков (I Smartyy I)",
      "userId": "03927496533933058806"
     },
     "user_tz": -180
    },
    "id": "_cTPccUafBkw",
    "outputId": "d5ebb737-d1d5-41c5-e678-aa4b88dae5f9"
   },
   "outputs": [],
   "source": [
    "model.fit(X_train, y_train)"
   ]
  },
  {
   "cell_type": "code",
   "execution_count": null,
   "metadata": {
    "id": "nexlT7SEfZg5"
   },
   "outputs": [],
   "source": [
    "X_test = full_test.drop(\"target\", axis=1)\n",
    "y_test = full_test.target"
   ]
  },
  {
   "cell_type": "code",
   "execution_count": null,
   "metadata": {
    "id": "SVO6ub02ftsL"
   },
   "outputs": [],
   "source": [
    "y_pred = model.predict(X_test)"
   ]
  },
  {
   "cell_type": "code",
   "execution_count": null,
   "metadata": {
    "id": "55557ILofwuS"
   },
   "outputs": [],
   "source": [
    "from sklearn.metrics import mean_absolute_error, mean_squared_error, r2_score"
   ]
  },
  {
   "cell_type": "code",
   "execution_count": null,
   "metadata": {
    "id": "x5L2qHxlgeaB"
   },
   "outputs": [],
   "source": [
    "assert round(MAError(y_true=y_test, y_predict=y_pred), 3) == round(mean_absolute_error(y_test, y_pred), 3), 'Неверно реализован расчёт'\n",
    "\n",
    "assert round(MSError(y_true=y_test, y_predict=y_pred), 3) == round(mean_squared_error(y_test, y_pred), 3), 'Неверно реализован расчёт'\n",
    "\n",
    "assert round(RMSError(y_true=y_test, y_predict=y_pred), 3) == round(mean_squared_error(y_test, y_pred, squared=False), 3), 'Неверно реализован расчёт'\n",
    "\n",
    "assert round(R_square(y_true=y_test, y_predict=y_pred), 3) == round(r2_score(y_test, y_pred), 3), 'Неверно реализован расчёт'"
   ]
  },
  {
   "cell_type": "markdown",
   "metadata": {
    "id": "v0dkjqe7A7xi"
   },
   "source": [
    "Линейная регрессия - один из наиболее хорошо изученных методов машинного обучения, позволяющий прогнозировать значения количественного признака в виде линейной комбинации прочих признаков с параметрами - весами модели. Оптимальные (в смысле минимальности некоторого функционала ошибки) параметры линейной регрессии можно найти аналитически с помощью нормального уравнения или численно с помощью методов оптимизации.  \n",
    "\n",
    "Линейная регрессия использует простой функционал качества - среднеквадратичную ошибку. Мы будем работать с выборкой, содержащей 3 признака. Для настройки параметров (весов) модели решается следующая задача:\n",
    "$$\\Large \\frac{1}{\\ell}\\sum_{i=1}^\\ell{{((w_0 + w_1x_{i1} + w_2x_{i2} +  w_3x_{i3}) - y_i)}^2} \\rightarrow \\min_{w_0, w_1, w_2, w_3},$$\n",
    "где $x_{i1}, x_{i2}, x_{i3}$ - значения признаков $i$-го объекта, $y_i$ - значение целевого признака $i$-го объекта, $\\ell$ - число объектов в обучающей выборке."
   ]
  },
  {
   "cell_type": "markdown",
   "metadata": {
    "id": "Txu1pMe0CT2E"
   },
   "source": [
    "Нахождение вектора оптимальных весов $w$ может быть сделано и аналитически.\n",
    "Мы хотим найти такой вектор весов $w$, чтобы вектор $y$, приближающий целевой признак, получался умножением матрицы $X$ (состоящей из всех признаков объектов обучающей выборки, кроме целевого) на вектор весов $w$. То есть, чтобы выполнялось матричное уравнение:\n",
    "$$\\Large y = Xw$$\n",
    "Домножением слева на $X^T$ получаем:\n",
    "$$\\Large X^Ty = X^TXw$$\n",
    "Это хорошо, поскольку теперь матрица $X^TX$ - квадратная, и можно найти решение (вектор $w$) в виде:\n",
    "$$\\Large w = {(X^TX)}^{-1}X^Ty$$\n",
    "\n",
    "\n",
    "Но все же на практике для больших матриц $X$ быстрее работает градиентный спуск, особенно его стохастическая версия."
   ]
  },
  {
   "cell_type": "markdown",
   "metadata": {
    "id": "ayNfj3es8RLr"
   },
   "source": [
    "__Реализуйте функции__\n",
    "1. __normal_equation__, которая по заданным матрицам (массивам NumPy) X* и *y вычисляет вектор весов  𝑤  согласно нормальному уравнению линейной регрессии.\n",
    "\n",
    "2. __linear_prediction__, которая принимает на вход матрицу X* и вектор весов линейной модели *w, а возвращает вектор прогнозов в виде линейной комбинации столбцов матрицы X* с весами *w."
   ]
  },
  {
   "cell_type": "code",
   "execution_count": null,
   "metadata": {
    "colab": {
     "base_uri": "https://localhost:8080/",
     "height": 221
    },
    "id": "EQrLxLXkBBny",
    "outputId": "82a39b4b-4d92-4033-eb04-d7f4d5651f44"
   },
   "outputs": [],
   "source": [
    "def normal_equation(X, y):\n",
    "    #ТВОЙ КОД\n",
    "    return w\n",
    "\n",
    "\n",
    "def linear_prediction(X, w):\n",
    "    #ТВОЙ КОД\n",
    "    return ans\n",
    "\n",
    "\n",
    "norm_eq_weights = normal_equation(train_data, train_target)\n",
    "print(norm_eq_weights)"
   ]
  },
  {
   "cell_type": "code",
   "execution_count": null,
   "metadata": {
    "colab": {
     "base_uri": "https://localhost:8080/"
    },
    "executionInfo": {
     "elapsed": 2,
     "status": "ok",
     "timestamp": 1673729654802,
     "user": {
      "displayName": "Лев Барабанщиков (I Smartyy I)",
      "userId": "03927496533933058806"
     },
     "user_tz": -180
    },
    "id": "GM7Jz5_jECAk",
    "outputId": "e48b52e2-e4e5-4344-e713-45fb121b5c44"
   },
   "outputs": [],
   "source": [
    "tip_pred = MSError(test_target.to_numpy(), linear_prediction(test_data.to_numpy(), norm_eq_weights))\n",
    "print(tip_pred)\n",
    "\n",
    "assert round(MSError(test_target.to_numpy(), linear_prediction(test_data.to_numpy(), norm_eq_weights)), 3) == 62.253, 'Не верно реализован расчёт'"
   ]
  },
  {
   "cell_type": "code",
   "execution_count": null,
   "metadata": {
    "id": "qKSL2tzX0Oam"
   },
   "outputs": [],
   "source": [
    "# Просто выполнить\n",
    "LinReg = LinearRegression()\n",
    "LinReg.fit(train_data, train_target)\n",
    "ans1 = LinReg.predict(test_data)"
   ]
  },
  {
   "cell_type": "code",
   "execution_count": null,
   "metadata": {
    "colab": {
     "base_uri": "https://localhost:8080/",
     "height": 34
    },
    "id": "vOoP29Jx2zZM",
    "outputId": "33ac9048-1ac4-455d-857a-482658dd7f40"
   },
   "outputs": [],
   "source": [
    "# Просто выполнить\n",
    "mean_squared_error(test_target, ans1)"
   ]
  }
 ],
 "metadata": {
  "colab": {
   "provenance": [],
   "toc_visible": true
  },
  "kernelspec": {
   "display_name": "venv",
   "language": "python",
   "name": "python3"
  },
  "language_info": {
   "codemirror_mode": {
    "name": "ipython",
    "version": 3
   },
   "file_extension": ".py",
   "mimetype": "text/x-python",
   "name": "python",
   "nbconvert_exporter": "python",
   "pygments_lexer": "ipython3",
   "version": "3.12.3"
  }
 },
 "nbformat": 4,
 "nbformat_minor": 0
}
